{
 "cells": [
  {
   "cell_type": "code",
   "execution_count": 15,
   "metadata": {},
   "outputs": [],
   "source": [
    "from include.datasets.TagData import TagData"
   ]
  },
  {
   "cell_type": "code",
   "execution_count": 31,
   "metadata": {},
   "outputs": [
    {
     "name": "stdout",
     "output_type": "stream",
     "text": [
      "{'tomorrow', 'west', 'lunch', 'thursdays', 'great', 'friends', 'fn', 'limousines', '727', '110', 'continental', 'nighttime', '130', 'cheapest', 'india', 'what', 'sixteenth', 'three', 'lands', '139', '10', 'without', 'kindly', 'jet', '300', 'up', 'destination', 'earliest', '1993', 'we', 'costs', 'possible', 'sunday', 'texas', 'trans', 'northwest', 'lufthansa', 'inexpensive', 'can', 'prices', 'bh', 'nashville', '1207', 'reverse', 'determine', 'amount', 'with', '1115', 'logan', 'put', 'grounds', '12', 'dulles', \"'m\", 'f', 'd9s', 'trip', 'know', 'four', 'newark', 'available', 'hou', 'along', 'interested', 'ontario', '324', 'each', '1500', 'so', '720', 'plan', 'yes', 'nights', 'mci', 'nw', 'indiana', 'else', 'fit', 'b', 'taking', 'daily', 'via', \"'ve\", 'york', 'airfare', 'dh8', 'minimum', '2', 'looking', 'kinds', 'depart', \"'ll\", 'restrictions', 'stopovers', 'dollars', 'montreal', 'originating', 'discount', 'if', 'jose', 'besides', 'iah', 'most', 'schedule', 'carried', 'people', '1030', 'another', 'names', '296', 'offers', 'would', 'at', 'ap68', 'thursday', 'abbreviation', 'served', 'same', 'lester', 'leaving', 'calling', 'over', 'seattle', 'still', 'kansas', 'stapleton', 'weekdays', '1024', 'offered', 'lga', 'again', 'layover', 'yyz', 'north', 'today', 'atlanta', 'sort', 'los', 'field', 'jfk', '1000', 'making', '270', 'not', '405', '771', 'sure', 'american', 'tower', '1209', 'options', 'make', 'final', 'utah', '80', '305', 'night', '100', 'out', 'international', '608', 'some', 'quebec', 'kennedy', 'other', 'leaves', 'lives', 'cincinnati', 'whether', 'departures', 'transcontinental', 'landings', 'have', '1017', 'there', 'close', 'co', 'D', '1765', 'new', 'offer', 'requesting', '1505', 'toronto', 'i', '838', 'hi', 'following', '1020', 'departing', 'april', 'la', '1850', '1700', 'michigan', 'booking', 'stops', 'included', 'located', 'need', '1045', 'flying', 'eighth', 'please', 'seven', 'prefer', 'stop', 'summer', 'connect', 'times', 'stands', 'march', 'how', 'oh', 'exceeding', 'phoenix', 'city', '3357', 'thereafter', 'types', 'carries', 'straight', '257', 'chicago', 'but', '813', 'uses', 'days', 'into', 'midnight', 'dl', 'returning', 'oak', 'be1', 'sam', 'fort', 'westchester', 'serves', 'sorry', '1994', '329', 'burbank', 'thanks', 'instead', 'number', 'order', 'reservation', 'thirty', 'display', 'different', 'longest', 'travels', 'before', 'rentals', 'hold', 'sundays', '1600', 'indianapolis', 'called', 'economic', 'twentieth', 'land', 'philly', 'they', 'tuesdays', '1300', 'wednesday', '3', '1200', '20', 'only', 'alaska', 'noontime', '733', 'arrival', 'tonight', 'd10', '1130', 'serve', 'plane', 'ninth', 'including', 'flight', 'no', 'nevada', 'bna', 'meaning', '4', '382', '9', '825', '430', 'airports', 'wn', 'off', '1230', 'june', 'wish', '212', '459', 'begins', 'provide', 'hello', 'san', 'seventeenth', 'supper', 'bound', 'for', '747', 'air', 'fourteenth', 'yn', 'tickets', 'show', 'tuesday', 'january', 'symbols', '1145', 'general', 'service', 'afternoon', 'airlines', 'train', 'list', 'from', 'cars', 'monday', 'route', 'las', '297', 'find', 'using', 'here', 'spend', 'describe', '1026', 'well', 'aircraft', 'rent', '210', 'eight', 'cheap', '311', 'twenty', 'twelfth', 'should', 'pm', 'tenth', 'l10', 'paul', 'A', 'tacoma', 'airplane', 'dallas', 'an', 'united', 'serving', 'coach', 'equal', '934', \"'re\", 'cleveland', 'schedules', 'more', 'help', 'your', '230', '539', 'maximum', 'red', 'usa', 'saturday', '269', 'mitchell', 'classes', 'must', 'a.m.', 'than', 'louis', 'vegas', 'my', 'delta', 'dinnertime', 'oakland', '1800', '630', 'week', 'arrivals', '767', '1940', 'level', 'mco', 'landing', '1', 'listing', 'saturdays', 'thing', '>', 'within', 'canada', 'm', 'petersburg', 'very', 'got', 'arrive', 'kw', 'P', 'to', 'pittsburgh', 'qw', '705', 'about', 'information', '417', 'the', '1245', 'reaching', 'ewr', 'coming', '217', 'may', '1110', 'third', 'pennsylvania', 'seating', 'rates', 'vicinity', 'choices', 'sixth', 'first', 'sounds', 'limo', 'companies', '6', 'next', 'november', '420', 'trips', 'okay', 'am', 'book', 'both', 'dc', 'ord', 'minneapolis', 'less', \"'d\", 'ohio', 'connects', 'eighteenth', 'ap', '4400', 'fly', 'georgia', 'kind', 'transport', 'closest', 'abbreviations', 'worth', 'charlotte', 'after', 'either', 'later', 'evening', '419', 'charges', 'bwi', 'takeoff', 'then', 'us', 'being', 'does', 'six', 'ticket', 'trying', 'stand', '106', 'be', 'mondays', 'fine', 'like', 'provided', '718', 'now', '932', 'milwaukee', 'nonstop', 'restriction', 'that', 'give', 'listed', 'heading', '645', 'such', 'actually', 'arrives', 'connections', '320', '11', 'snacks', 'sometime', 'during', 'arrange', 'near', 'st.', '1992', 'advertises', 'breakfast', 'flights', 'arrangements', 'get', 'overnight', 'around', 'nineteenth', 'ten', 'come', 'having', 'guardia', 'diego', 'smallest', 'departs', 'dc10', 'twa', 'h', 'afterwards', 'francisco', 'who', 'nationair', 'going', 'town', '72s', 'f28', 'many', 'all', '201', 'largest', 'will', 'round', 'ever', 'time', 'basis', 'continuing', 'bay', 'stopover', '1205', 'hours', 'seventeen', 'anywhere', 'least', 'right', 'repeat', 'boeing', 'too', 'through', '3724', '400', 'lax', 'combination', 'staying', '5', 'highest', 'february', '1220', 'designate', 'seats', 'could', '1059', '1291', 'colorado', 'wednesdays', 'way', 'miles', 'cvg', '150', 'used', 'mornings', 'starting', 'connecting', '497766', 'scenario', 'thirteenth', 'minnesota', 'california', 'second', 'dinner', 'local', '737', 'detroit', 'total', '723', 'itinerary', 'want', \"n't\", 'see', 'm80', '1222', 'one', 'october', 'eye', 'run', 'various', 'limousine', 'midway', 'september', '755', 'fifteen', 'directly', 'makes', '2100', '486', 'transportation', 'jersey', 'flies', 'midwest', 'economy', 'me', '225', 'miami', 'carolina', 'baltimore', 'price', 'mean', 'it', 'latest', '281', 'columbus', 'aa', '21', 'thank', 'thirtieth', 'memphis', 'ap57', 'anything', 'has', '730', 'as', 'august', 'downtown', 'include', '2134', '416', 'airline', '73s', \"'s\", 'scheduled', 'where', 'approximately', 'salt', 'fifth', '639', 'say', 'by', 'or', 'beginning', 'denver', 'noon', 'priced', 'planes', \"o'clock\", 'under', 'thrift', 'you', 'traveling', 'fridays', 'bur', 'home', 'express', 'bring', 'month', 'canadian', '124', 'goes', 'arriving', '343', 'reservations', '1991', '845', '57', 'rate', 'florida', '345', 'leave', 'earlier', 'meal', 'orlando', 'tell', 'code', 'on', '315', 'beach', 'fare', 'eastern', 'capacity', 'airport', 'taxi', 'define', 'eleventh', 'lake', 'stopping', 'working', 'ls', 'belong', 'j31', 'ea', 'missouri', '746', 'mealtime', 'planning', '<', 'seventh', 'catch', 'take', 'cost', 'southwest', 'type', 'washington', 'takeoffs', 'is', '7', 'far', 'k', 'snack', 'represented', 'fifteenth', 'fourth', 'nonstops', 'arizona', 'return', 'back', 'those', '734', 'two', '852', 'single', 'county', 'able', 'boston', 'tampa', 'across', 'intercontinental', 'reaches', 'database', 'operation', 'l1011', 'equipment', '1055', 'use', 'sixteen', 'regarding', 'numbers', 'morning', 'ac', 'much', '82', 'tennessee', 'world', 'dca', 'fares', 'ua', '71', 'somebody', 'do', 'area', 'love', '200', 'proper', 'explain', 'connection', 'direct', 'departure', '163', 'philadelphia', 'dfw', '757', 'ground', 'shortest', 'wants', 'and', '466', 'distance', 'y', '555', '271', 'soon', '823', 'angeles', 'are', 'class', 'when', 'ap80', 'live', 'ff', 'early', 'buy', '1100', 'includes', 'toward', 'qo', '0900', '530', 'hopefully', 'visit', 'expensive', 'while', 'preferably', 'greatest', 'travel', 'between', 'zone', 'business', 'qx', 'go', 'december', 'turboprop', 'which', '1158', 'q', 'a', 'cities', 'weekday', 'lowest', 'of', '8', 'last', 'lastest', 'look', 'day', 'friday', 'pearson', 'hp', 'good', 'houston', 'capacities', 'sfo', 'long', 'seat', 'these', 'also', 'airplanes', 'serviced', 'inform', 'atl', 'comes', 'july', 'car', '505', 'services', 'difference', 'in', 'rental', 'them', 'meals', 'name', 'any', 'continent', 'their', 'let', 'question', 'qualify', 's', 'passengers', 'try', 'late', '1039', 'this', 'codes', 'america', '428'}\n"
     ]
    }
   ],
   "source": [
    "data = TagData('./data/UD_English-Atis/en_atis-ud-train.conllu')\n",
    "print(data.vocabulary)"
   ]
  }
 ],
 "metadata": {
  "kernelspec": {
   "display_name": "Python 3",
   "language": "python",
   "name": "python3"
  },
  "language_info": {
   "codemirror_mode": {
    "name": "ipython",
    "version": 3
   },
   "file_extension": ".py",
   "mimetype": "text/x-python",
   "name": "python",
   "nbconvert_exporter": "python",
   "pygments_lexer": "ipython3",
   "version": "3.11.6"
  }
 },
 "nbformat": 4,
 "nbformat_minor": 2
}
